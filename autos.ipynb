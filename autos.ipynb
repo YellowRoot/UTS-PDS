{
  "nbformat": 4,
  "nbformat_minor": 0,
  "metadata": {
    "colab": {
      "name": "autos.ipynb",
      "provenance": [],
      "collapsed_sections": [],
      "authorship_tag": "ABX9TyNuL3Bibqkwgo/iJDE+uN3F",
      "include_colab_link": true
    },
    "kernelspec": {
      "name": "python3",
      "display_name": "Python 3"
    },
    "language_info": {
      "name": "python"
    }
  },
  "cells": [
    {
      "cell_type": "markdown",
      "metadata": {
        "id": "view-in-github",
        "colab_type": "text"
      },
      "source": [
        "<a href=\"https://colab.research.google.com/github/YellowRoot/UTS-PDS/blob/main/autos.ipynb\" target=\"_parent\"><img src=\"https://colab.research.google.com/assets/colab-badge.svg\" alt=\"Open In Colab\"/></a>"
      ]
    },
    {
      "cell_type": "markdown",
      "source": [
        "Project ini dibuat sebagai tugas pengganti UTS untuk matakuliah Probabilitas dan Statistik. \n",
        "\n",
        "Project ini menggunakan library Numpy dan Pandas, dan dataset penjualan mobil bekas di Jerman (**autos.csv**)"
      ],
      "metadata": {
        "id": "sSiMZzO6Wp1d"
      }
    },
    {
      "cell_type": "code",
      "execution_count": null,
      "metadata": {
        "id": "2UftuMJ_Pg1G"
      },
      "outputs": [],
      "source": [
        "import numpy\n",
        "import pandas as pd\n",
        "\n",
        "autos = pd.read_csv(\"autos.csv\", encoding=\"ISO-8859-1\")"
      ]
    },
    {
      "cell_type": "code",
      "source": [
        "# Display the dataframe\n",
        "display(autos)"
      ],
      "metadata": {
        "id": "ZBKcjrh7TDA7"
      },
      "execution_count": null,
      "outputs": []
    },
    {
      "cell_type": "code",
      "source": [
        "display(autos.info())\n",
        "display(autos.head())"
      ],
      "metadata": {
        "id": "nnuhMrZF_GXK"
      },
      "execution_count": null,
      "outputs": []
    },
    {
      "cell_type": "markdown",
      "source": [
        "autos.info() menunjukkan informasi mengenai dataframe autos\n",
        "autos.head() menunjukkan 5 baris pertama dari dataframe autos"
      ],
      "metadata": {
        "id": "1ZI2CxRpX5bg"
      }
    },
    {
      "cell_type": "code",
      "source": [
        "# Print all column names of the dataframe\n",
        "print(autos.columns)\n",
        "\n",
        "# Rename the columns\n",
        "autos.rename(columns = {'yearOfRegistration':'registration_year', 'monthOfRegistration':'registration_month',\n",
        "                        'notRepairedDamage':'unrepaired_damage', 'dateCreated':'ad_created',\n",
        "                        'dateCrawled':'date_crawled','offerType':'offer_type', 'abtest':'ab_test', 'vehicleType':'vehicle_type',\n",
        "                        'powerPS':'power_PS', 'kilometer':'odometer', 'fuelType':'fuel_type', 'nrOfPictures':'num_of_pictures',\n",
        "                        'postalCode':'postal_code', 'lastSeen':'last_seen'}, inplace=True)\n",
        "display(autos.head(30))"
      ],
      "metadata": {
        "id": "UWL2S-hsU-uX"
      },
      "execution_count": null,
      "outputs": []
    },
    {
      "cell_type": "markdown",
      "source": [
        "Perubahaan yang dibuat :\n",
        "\n",
        "\n",
        "*   yearOfRegistration : registration_year (Camelcase menjadi Snakecase)\n",
        "*   monthOfRegistration : registration_month (Camelcase menjadi Snakecase)\n",
        "*   notRepairedDamage : unrepaired_damage (Camelcase menjadi Snakecase, dan lebih mudah dimengerti)\n",
        "*   dateCreated : ad_created (Camelcase menjadi Snakecase, dan lebih deskriptif)\n",
        "*   dateCrawled : date_crawled (Camelcase menjadi Snakecase)\n",
        "*   offerType : offer_type (Camelcase menjadi Snakecase)\n",
        "*   abtest : ab_test (Camelcase menjadi Snakecase)\n",
        "*   vehicleType : vehicle_type (Camelcase menjadi Snakecase)\n",
        "*   powerPS : power_PS (Camelcase menjadi Snakecase)\n",
        "*   kilometer : odometer (Lebih deskriptif)\n",
        "*   fuelType : fuel_type (Camelcase menjadi Snakecase)\n",
        "*   nrOfPictures : num_of_pictures (Camelcase menjadi Snakecase, dan lebih mudah dimengerti)\n",
        "*   postalCode : postal_code (Camelcase menjadi Snakecase)\n",
        "*   lastSeen : last_seen (Camelcase menjadi Snakecase)\n",
        "\n"
      ],
      "metadata": {
        "id": "5eKGl-T5VnDL"
      }
    },
    {
      "cell_type": "code",
      "source": [
        "display(autos.describe(include=\"all\"))"
      ],
      "metadata": {
        "id": "NhS9nPKltcm7"
      },
      "execution_count": null,
      "outputs": []
    },
    {
      "cell_type": "markdown",
      "source": [
        "*   Kolom **num_of_pictures** hanya memiliki satu nilai.\n",
        "*   Kolom **seller** dan **offer_type** hampir semuanya memiliki satu nilai.\n",
        "\n",
        "\n",
        "\n",
        "---\n",
        "\n",
        "\n",
        "*   Kolom **price** dan **odometer** membutuhkan investigasi lebih lanjut untuk menentukan tipe datanya.\n",
        "\n",
        "\n",
        "\n"
      ],
      "metadata": {
        "id": "32tjtIzIxLTt"
      }
    },
    {
      "cell_type": "code",
      "source": [
        "print(autos.dtypes)"
      ],
      "metadata": {
        "id": "wGMUNIax2iIr"
      },
      "execution_count": null,
      "outputs": []
    },
    {
      "cell_type": "markdown",
      "source": [
        "Disini dapat dilihat bahwa kolom **price** dan **odometer** memiliki tipe data int, sehingga tidak perlu dilakukan konversi lagi."
      ],
      "metadata": {
        "id": "rwyMPv6_7SP7"
      }
    },
    {
      "cell_type": "code",
      "source": [
        "# Change column name from odometer into odometer_km\n",
        "autos.rename(columns = {'odometer':'odometer_km'}, inplace=True)"
      ],
      "metadata": {
        "id": "o8y-hLdW7h9F"
      },
      "execution_count": null,
      "outputs": []
    },
    {
      "cell_type": "code",
      "source": [
        "# Print odometer_km data details\n",
        "print(autos['odometer_km'].unique().shape)\n",
        "print(autos['odometer_km'].describe())\n",
        "print(autos['odometer_km'].value_counts(ascending=True))"
      ],
      "metadata": {
        "id": "3N5pDakB8_9h"
      },
      "execution_count": null,
      "outputs": []
    },
    {
      "cell_type": "code",
      "source": [
        "# Print price data details\n",
        "print(autos['price'].unique().shape)\n",
        "print(autos['price'].describe())\n",
        "print(autos['price'].value_counts().head(20))"
      ],
      "metadata": {
        "id": "RfJedNUB_eNn"
      },
      "execution_count": null,
      "outputs": []
    },
    {
      "cell_type": "code",
      "source": [
        "# Removing outliers in odometer_km column using IQR method\n",
        "q1 = autos['odometer_km'].quantile(.25)\n",
        "q3 = autos['odometer_km'].quantile(.75)\n",
        "iqr = q3 - q1\n",
        "upper_limit = q3 + 3 * iqr\n",
        "lower_limit = q1 - 3 * iqr\n",
        "autos_odometer = autos[autos['odometer_km'].between(lower_limit, upper_limit)]\n",
        "display(autos_odometer['odometer_km'].describe())"
      ],
      "metadata": {
        "id": "ISdImR_iAIlP"
      },
      "execution_count": null,
      "outputs": []
    },
    {
      "cell_type": "code",
      "source": [
        "# Removing outliers in price column using IQR method\n",
        "q1 = autos['price'].quantile(.25)\n",
        "q3 = autos['price'].quantile(.75)\n",
        "iqr = q3 - q1\n",
        "upper_limit = q3 + 3 * iqr\n",
        "lower_limit = q1 - 3 * iqr\n",
        "autos_price = autos[autos['price'].between(lower_limit, upper_limit)]\n",
        "print(autos_price['price'].describe())"
      ],
      "metadata": {
        "id": "XxZv-2uepp9b"
      },
      "execution_count": null,
      "outputs": []
    },
    {
      "cell_type": "markdown",
      "source": [
        "Pembuangan nilai-nilai outlier dilakukan dengan metode **Interquartile Range (IQR)**."
      ],
      "metadata": {
        "id": "85ymIQkYppmn"
      }
    },
    {
      "cell_type": "code",
      "source": [
        "# Remove timestamps from date\n",
        "autos['date_crawled'] = autos['date_crawled'].str[:10]\n",
        "print(autos['date_crawled'].value_counts(normalize=True, dropna=False).sort_index())"
      ],
      "metadata": {
        "id": "DG20a9rJ_dkC"
      },
      "execution_count": null,
      "outputs": []
    },
    {
      "cell_type": "markdown",
      "source": [
        "Crawling terbanyak terjadi pada tanggal 1 April 2016 dengan jumlah 0.038735% dari total crawling yang dilakukan.\n",
        "\n",
        "Crawling terkecil terjadi pada tanggal 7 April 2016 dengan jumlah 0.001620% dari total crawling yang dilakukan."
      ],
      "metadata": {
        "id": "PtxDM3nPghR1"
      }
    },
    {
      "cell_type": "code",
      "source": [
        "# Remove timestamps from date\n",
        "autos['ad_created'] = autos['ad_created'].str[:10]\n",
        "print(autos['ad_created'].value_counts(normalize=True, dropna=False).sort_index())"
      ],
      "metadata": {
        "id": "bHtdVoqShVqT"
      },
      "execution_count": null,
      "outputs": []
    },
    {
      "cell_type": "markdown",
      "source": [
        "Kolom **tanggal iklan dibuat** memiliki data yang dimulai dari tanggal 10 Maret 2014 sampai 7 April 2016."
      ],
      "metadata": {
        "id": "tdPBweNThtf2"
      }
    },
    {
      "cell_type": "code",
      "source": [
        "# Remove timestamps from date\n",
        "autos['last_seen'] = autos['last_seen'].str[:10]\n",
        "print(autos['last_seen'].value_counts(normalize=True, dropna=False).sort_index())"
      ],
      "metadata": {
        "id": "CKXYPpYHpysA"
      },
      "execution_count": null,
      "outputs": []
    },
    {
      "cell_type": "markdown",
      "source": [
        "Kolom **terakhir dilihat** memiliki data terbanyak pada tanggal 6 April 2016 dengan jumlah 0.217830% dari total.\n",
        "\n",
        "Kolom **terakhir dilihat** memiliki data terkecil pada tanggal 5 Maret 2016 dengan jumlah 0.001292% dari total."
      ],
      "metadata": {
        "id": "Q5yaCiSFqE9R"
      }
    },
    {
      "cell_type": "code",
      "source": [
        "print(autos['registration_year'].describe())"
      ],
      "metadata": {
        "id": "eYIpwGwSrjKG"
      },
      "execution_count": null,
      "outputs": []
    },
    {
      "cell_type": "markdown",
      "source": [
        "Kolom tahun registrasi memiliki data minimal 1000 dan maksimal 9999.\n",
        "\n",
        "Hal ini menandakan bahwa terdapat nilai-nilai outlier yang tidak sesuai, karena tidak mungkin mobil telah ada pada tahun 1000, dan tahun 9999 adalah masa yang akan mendatang."
      ],
      "metadata": {
        "id": "iafcsM4ksSDK"
      }
    },
    {
      "cell_type": "code",
      "source": [
        "# Select upper and lower limits of valid registration years\n",
        "upper_limit = 2016\n",
        "lower_limit = 1900"
      ],
      "metadata": {
        "id": "trojuTcitJ40"
      },
      "execution_count": null,
      "outputs": []
    },
    {
      "cell_type": "markdown",
      "source": [
        "Batasan yang dipilih adalah dari tahun 1900 - tahun 2016.\n",
        "\n",
        "Tahun 1900 dipilih sebagai batas bawah dari data, adalah karena New York, negara bagian pertama yang mengharuskan mobil memiliki plat mobil, memberlakukan peraturan tersebut pada tahun 1901.\n",
        "\n",
        "Tahun 2016 dipilih sebagai batas atas dari data, karena tahun terakhir data dikumpulkan adalah pada tahun 2016."
      ],
      "metadata": {
        "id": "LiNJD6cDuKYh"
      }
    },
    {
      "cell_type": "code",
      "source": [
        "# Remove outliers from registration_year\n",
        "autos_registration_year = autos[autos['registration_year'].between(lower_limit, upper_limit)]\n",
        "autos_registration_year['registration_year'].value_counts(normalize=True).sort_index()"
      ],
      "metadata": {
        "id": "aiNIA2bgvxI7"
      },
      "execution_count": null,
      "outputs": []
    },
    {
      "cell_type": "markdown",
      "source": [
        "Setelah pembuangan data outlier, data yang tersisa pada kolom **tahun registrasi** adalah dari tahun 1910 - tahun 2016."
      ],
      "metadata": {
        "id": "d_gtk9EawXc6"
      }
    },
    {
      "cell_type": "code",
      "source": [
        "# Select 20 most common brands\n",
        "brands = autos['brand'].value_counts(normalize=True)\n",
        "top_brands = autos[autos['brand'].isin(brands.index[:20])]['brand'].unique()"
      ],
      "metadata": {
        "id": "Oth81pzjxYQg"
      },
      "execution_count": null,
      "outputs": []
    },
    {
      "cell_type": "markdown",
      "source": [
        "Merk-merk mobil yang dipilih adalah 20 merk yang paling sering muncul pada data set."
      ],
      "metadata": {
        "id": "huKAyHOj26sw"
      }
    },
    {
      "cell_type": "code",
      "source": [
        "brand_mean_prices = {}\n",
        "\n",
        "# Assign brands and their average mileage into a dictionary\n",
        "for brand in top_brands:\n",
        "  brand_price = autos.loc[autos['brand'] == brand]['price'].mean()\n",
        "  brand_mean_prices.update({brand : brand_price})"
      ],
      "metadata": {
        "id": "P062Bel73Qjv"
      },
      "execution_count": null,
      "outputs": []
    },
    {
      "cell_type": "code",
      "source": [
        "display(brand_mean_prices)"
      ],
      "metadata": {
        "id": "nL7cM7SM4VEr"
      },
      "execution_count": null,
      "outputs": []
    },
    {
      "cell_type": "markdown",
      "source": [
        "Merk mobil dengan mean harga tertinggi adalah **Sonstige Autos** (615647)\n",
        "\n",
        "Merk mobil dengan mean harga terendah adalah **Renault** (2334)"
      ],
      "metadata": {
        "id": "1ysRXld18-12"
      }
    },
    {
      "cell_type": "code",
      "source": [
        "brand_mean_mileage = {}\n",
        "\n",
        "# Assign brands and their average mileage into a dictionary\n",
        "for brand in top_brands:\n",
        "  brand_mileage = autos.loc[autos['brand'] == brand]['odometer_km'].mean()\n",
        "  brand_mean_mileage.update({brand : brand_mileage})"
      ],
      "metadata": {
        "id": "U4bMQXli3t78"
      },
      "execution_count": null,
      "outputs": []
    },
    {
      "cell_type": "code",
      "source": [
        "# Convert dictionaries into series objects\n",
        "bmp_series = pd.Series(brand_mean_prices)\n",
        "bmm_series = pd.Series(brand_mean_mileage)"
      ],
      "metadata": {
        "id": "vSemVngu5F8T"
      },
      "execution_count": null,
      "outputs": []
    },
    {
      "cell_type": "code",
      "source": [
        "# Create dataframe from series objects\n",
        "df = pd.DataFrame(bmp_series, columns=['mean_price'])\n",
        "df = df.assign(mean_mileage = bmm_series)\n",
        "display(df)"
      ],
      "metadata": {
        "id": "WsdEPS7Q6SPt"
      },
      "execution_count": null,
      "outputs": []
    },
    {
      "cell_type": "markdown",
      "source": [
        "Dari dataframe di atas, dapat dilihat bahwa **Volkswagen** memiliki mean mileage yang lebih rendah daripada **Audi**, tetapi mean harga **Volkswagen** lebih tinggi daripada **Audi**. Sedangkan **Skoda** yang memiliki mean mileage yang juga lebih rendah daripada **Audi**, memiliki mean harga yang lebih rendah daripada **Audi**.\n",
        "\n",
        "Kesimpulan : Mileage dan Harga kelihatannya tidak saling berkaitan."
      ],
      "metadata": {
        "id": "yLIwB4nr8akP"
      }
    },
    {
      "cell_type": "code",
      "source": [
        "# Replacing all German caterorical data into its English counterpart\n",
        "autos['seller'].mask(autos['seller'] == 'privat', \"private\", inplace=True)\n",
        "\n",
        "autos['vehicle_type'].mask(autos['vehicle_type'] == 'kleinwagen', \"compact car\", inplace=True)\n",
        "autos['vehicle_type'].mask(autos['vehicle_type'] == 'cabrio', \"convertible\", inplace=True)\n",
        "autos['vehicle_type'].mask(autos['vehicle_type'] == 'kombi', \"station wagon\", inplace=True)\n",
        "autos['vehicle_type'].mask(autos['vehicle_type'] == 'andere', \"others\", inplace=True)\n",
        "\n",
        "\n",
        "autos['gearbox'].mask(autos['gearbox'] == 'manuell', \"manual\", inplace=True)\n",
        "autos['gearbox'].mask(autos['gearbox'] == 'automatik', \"automatic\", inplace=True)\n",
        "\n",
        "\n",
        "autos['fuel_type'].mask(autos['fuel_type'] == 'benzin', \"petrol\", inplace=True)\n",
        "autos['fuel_type'].mask(autos['fuel_type'] == 'elektro', \"electric\", inplace=True)\n",
        "autos['fuel_type'].mask(autos['fuel_type'] == 'andere', \"others\", inplace=True)\n",
        "\n",
        "\n",
        "autos['unrepaired_damage'].mask(autos['unrepaired_damage'] == 'ja', \"yes\", inplace=True)\n",
        "autos['unrepaired_damage'].mask(autos['unrepaired_damage'] == 'nein', \"no\", inplace=True)"
      ],
      "metadata": {
        "id": "zUQxzeVKDMRJ"
      },
      "execution_count": null,
      "outputs": []
    },
    {
      "cell_type": "code",
      "source": [
        "# Convert dates into uniform numerical data\n",
        "autos['date_crawled'] = autos['date_crawled'].str[:10]\n",
        "autos['date_crawled'] = autos['date_crawled'].str.replace(\"-\",\"\").astype(int)\n",
        "\n",
        "autos['ad_created'] = autos['ad_created'].str[:10]\n",
        "autos['ad_created'] = autos['ad_created'].str.replace(\"-\",\"\").astype(int)\n",
        "\n",
        "autos.dropna(inplace=True)\n",
        "autos['last_seen'] = autos['last_seen'].str.replace(\"-\",\"\").astype(int)"
      ],
      "metadata": {
        "id": "pLD6q3UX8XcX"
      },
      "execution_count": null,
      "outputs": []
    },
    {
      "cell_type": "code",
      "source": [
        "display(autos)"
      ],
      "metadata": {
        "colab": {
          "base_uri": "https://localhost:8080/",
          "height": 722
        },
        "id": "_VOU3zAoBgZb",
        "outputId": "12dcf75f-57f5-49d3-fe3a-bcc7e072d583"
      },
      "execution_count": null,
      "outputs": [
        {
          "output_type": "display_data",
          "data": {
            "text/plain": [
              "        date_crawled                                               name  \\\n",
              "3           20160317                                 GOLF_4_1_4__3TÜRER   \n",
              "4           20160331                     Skoda_Fabia_1.4_TDI_PD_Classic   \n",
              "5           20160404  BMW_316i___e36_Limousine___Bastlerfahrzeug__Ex...   \n",
              "6           20160401                        Peugeot_206_CC_110_Platinum   \n",
              "7           20160321                       VW_Derby_Bj_80__Scheunenfund   \n",
              "...              ...                                                ...   \n",
              "371520      20160319                                       turbo_defekt   \n",
              "371521      20160327                 Opel_Zafira_1.6_Elegance_TÜV_12/16   \n",
              "371524      20160305              Smart_smart_leistungssteigerung_100ps   \n",
              "371525      20160319                 Volkswagen_Multivan_T4_TDI_7DC_UY2   \n",
              "371527      20160307       BMW_M135i_vollausgestattet_NP_52.720____Euro   \n",
              "\n",
              "         seller offer_type  price  ab_test vehicle_type  registration_year  \\\n",
              "3       private    Angebot   1500     test  compact car               2001   \n",
              "4       private    Angebot   3600     test  compact car               2008   \n",
              "5       private    Angebot    650     test    limousine               1995   \n",
              "6       private    Angebot   2200     test  convertible               2004   \n",
              "7       private    Angebot      0     test    limousine               1980   \n",
              "...         ...        ...    ...      ...          ...                ...   \n",
              "371520  private    Angebot   3200  control    limousine               2004   \n",
              "371521  private    Angebot   1150  control          bus               2000   \n",
              "371524  private    Angebot   1199     test  convertible               2000   \n",
              "371525  private    Angebot   9200     test          bus               1996   \n",
              "371527  private    Angebot  28990  control    limousine               2013   \n",
              "\n",
              "          gearbox  power_PS        model  odometer_km  registration_month  \\\n",
              "3          manual        75         golf       150000                   6   \n",
              "4          manual        69        fabia        90000                   7   \n",
              "5          manual       102          3er       150000                  10   \n",
              "6          manual       109      2_reihe       150000                   8   \n",
              "7          manual        50       andere        40000                   7   \n",
              "...           ...       ...          ...          ...                 ...   \n",
              "371520     manual       225         leon       150000                   5   \n",
              "371521     manual         0       zafira       150000                   3   \n",
              "371524  automatic       101       fortwo       125000                   3   \n",
              "371525     manual       102  transporter       150000                   3   \n",
              "371527     manual       320      m_reihe        50000                   8   \n",
              "\n",
              "       fuel_type       brand unrepaired_damage  ad_created  num_of_pictures  \\\n",
              "3         petrol  volkswagen                no    20160317                0   \n",
              "4         diesel       skoda                no    20160331                0   \n",
              "5         petrol         bmw               yes    20160404                0   \n",
              "6         petrol     peugeot                no    20160401                0   \n",
              "7         petrol  volkswagen                no    20160321                0   \n",
              "...          ...         ...               ...         ...              ...   \n",
              "371520    petrol        seat               yes    20160319                0   \n",
              "371521    petrol        opel                no    20160327                0   \n",
              "371524    petrol       smart                no    20160305                0   \n",
              "371525    diesel  volkswagen                no    20160319                0   \n",
              "371527    petrol         bmw                no    20160307                0   \n",
              "\n",
              "        postal_code  last_seen  \n",
              "3             91074   20160317  \n",
              "4             60437   20160406  \n",
              "5             33775   20160406  \n",
              "6             67112   20160405  \n",
              "7             19348   20160325  \n",
              "...             ...        ...  \n",
              "371520        96465   20160319  \n",
              "371521        26624   20160329  \n",
              "371524        26135   20160311  \n",
              "371525        87439   20160407  \n",
              "371527        73326   20160322  \n",
              "\n",
              "[260956 rows x 20 columns]"
            ],
            "text/html": [
              "\n",
              "  <div id=\"df-b2b00560-0e58-4908-99c0-3b0b613e44f1\">\n",
              "    <div class=\"colab-df-container\">\n",
              "      <div>\n",
              "<style scoped>\n",
              "    .dataframe tbody tr th:only-of-type {\n",
              "        vertical-align: middle;\n",
              "    }\n",
              "\n",
              "    .dataframe tbody tr th {\n",
              "        vertical-align: top;\n",
              "    }\n",
              "\n",
              "    .dataframe thead th {\n",
              "        text-align: right;\n",
              "    }\n",
              "</style>\n",
              "<table border=\"1\" class=\"dataframe\">\n",
              "  <thead>\n",
              "    <tr style=\"text-align: right;\">\n",
              "      <th></th>\n",
              "      <th>date_crawled</th>\n",
              "      <th>name</th>\n",
              "      <th>seller</th>\n",
              "      <th>offer_type</th>\n",
              "      <th>price</th>\n",
              "      <th>ab_test</th>\n",
              "      <th>vehicle_type</th>\n",
              "      <th>registration_year</th>\n",
              "      <th>gearbox</th>\n",
              "      <th>power_PS</th>\n",
              "      <th>model</th>\n",
              "      <th>odometer_km</th>\n",
              "      <th>registration_month</th>\n",
              "      <th>fuel_type</th>\n",
              "      <th>brand</th>\n",
              "      <th>unrepaired_damage</th>\n",
              "      <th>ad_created</th>\n",
              "      <th>num_of_pictures</th>\n",
              "      <th>postal_code</th>\n",
              "      <th>last_seen</th>\n",
              "    </tr>\n",
              "  </thead>\n",
              "  <tbody>\n",
              "    <tr>\n",
              "      <th>3</th>\n",
              "      <td>20160317</td>\n",
              "      <td>GOLF_4_1_4__3TÜRER</td>\n",
              "      <td>private</td>\n",
              "      <td>Angebot</td>\n",
              "      <td>1500</td>\n",
              "      <td>test</td>\n",
              "      <td>compact car</td>\n",
              "      <td>2001</td>\n",
              "      <td>manual</td>\n",
              "      <td>75</td>\n",
              "      <td>golf</td>\n",
              "      <td>150000</td>\n",
              "      <td>6</td>\n",
              "      <td>petrol</td>\n",
              "      <td>volkswagen</td>\n",
              "      <td>no</td>\n",
              "      <td>20160317</td>\n",
              "      <td>0</td>\n",
              "      <td>91074</td>\n",
              "      <td>20160317</td>\n",
              "    </tr>\n",
              "    <tr>\n",
              "      <th>4</th>\n",
              "      <td>20160331</td>\n",
              "      <td>Skoda_Fabia_1.4_TDI_PD_Classic</td>\n",
              "      <td>private</td>\n",
              "      <td>Angebot</td>\n",
              "      <td>3600</td>\n",
              "      <td>test</td>\n",
              "      <td>compact car</td>\n",
              "      <td>2008</td>\n",
              "      <td>manual</td>\n",
              "      <td>69</td>\n",
              "      <td>fabia</td>\n",
              "      <td>90000</td>\n",
              "      <td>7</td>\n",
              "      <td>diesel</td>\n",
              "      <td>skoda</td>\n",
              "      <td>no</td>\n",
              "      <td>20160331</td>\n",
              "      <td>0</td>\n",
              "      <td>60437</td>\n",
              "      <td>20160406</td>\n",
              "    </tr>\n",
              "    <tr>\n",
              "      <th>5</th>\n",
              "      <td>20160404</td>\n",
              "      <td>BMW_316i___e36_Limousine___Bastlerfahrzeug__Ex...</td>\n",
              "      <td>private</td>\n",
              "      <td>Angebot</td>\n",
              "      <td>650</td>\n",
              "      <td>test</td>\n",
              "      <td>limousine</td>\n",
              "      <td>1995</td>\n",
              "      <td>manual</td>\n",
              "      <td>102</td>\n",
              "      <td>3er</td>\n",
              "      <td>150000</td>\n",
              "      <td>10</td>\n",
              "      <td>petrol</td>\n",
              "      <td>bmw</td>\n",
              "      <td>yes</td>\n",
              "      <td>20160404</td>\n",
              "      <td>0</td>\n",
              "      <td>33775</td>\n",
              "      <td>20160406</td>\n",
              "    </tr>\n",
              "    <tr>\n",
              "      <th>6</th>\n",
              "      <td>20160401</td>\n",
              "      <td>Peugeot_206_CC_110_Platinum</td>\n",
              "      <td>private</td>\n",
              "      <td>Angebot</td>\n",
              "      <td>2200</td>\n",
              "      <td>test</td>\n",
              "      <td>convertible</td>\n",
              "      <td>2004</td>\n",
              "      <td>manual</td>\n",
              "      <td>109</td>\n",
              "      <td>2_reihe</td>\n",
              "      <td>150000</td>\n",
              "      <td>8</td>\n",
              "      <td>petrol</td>\n",
              "      <td>peugeot</td>\n",
              "      <td>no</td>\n",
              "      <td>20160401</td>\n",
              "      <td>0</td>\n",
              "      <td>67112</td>\n",
              "      <td>20160405</td>\n",
              "    </tr>\n",
              "    <tr>\n",
              "      <th>7</th>\n",
              "      <td>20160321</td>\n",
              "      <td>VW_Derby_Bj_80__Scheunenfund</td>\n",
              "      <td>private</td>\n",
              "      <td>Angebot</td>\n",
              "      <td>0</td>\n",
              "      <td>test</td>\n",
              "      <td>limousine</td>\n",
              "      <td>1980</td>\n",
              "      <td>manual</td>\n",
              "      <td>50</td>\n",
              "      <td>andere</td>\n",
              "      <td>40000</td>\n",
              "      <td>7</td>\n",
              "      <td>petrol</td>\n",
              "      <td>volkswagen</td>\n",
              "      <td>no</td>\n",
              "      <td>20160321</td>\n",
              "      <td>0</td>\n",
              "      <td>19348</td>\n",
              "      <td>20160325</td>\n",
              "    </tr>\n",
              "    <tr>\n",
              "      <th>...</th>\n",
              "      <td>...</td>\n",
              "      <td>...</td>\n",
              "      <td>...</td>\n",
              "      <td>...</td>\n",
              "      <td>...</td>\n",
              "      <td>...</td>\n",
              "      <td>...</td>\n",
              "      <td>...</td>\n",
              "      <td>...</td>\n",
              "      <td>...</td>\n",
              "      <td>...</td>\n",
              "      <td>...</td>\n",
              "      <td>...</td>\n",
              "      <td>...</td>\n",
              "      <td>...</td>\n",
              "      <td>...</td>\n",
              "      <td>...</td>\n",
              "      <td>...</td>\n",
              "      <td>...</td>\n",
              "      <td>...</td>\n",
              "    </tr>\n",
              "    <tr>\n",
              "      <th>371520</th>\n",
              "      <td>20160319</td>\n",
              "      <td>turbo_defekt</td>\n",
              "      <td>private</td>\n",
              "      <td>Angebot</td>\n",
              "      <td>3200</td>\n",
              "      <td>control</td>\n",
              "      <td>limousine</td>\n",
              "      <td>2004</td>\n",
              "      <td>manual</td>\n",
              "      <td>225</td>\n",
              "      <td>leon</td>\n",
              "      <td>150000</td>\n",
              "      <td>5</td>\n",
              "      <td>petrol</td>\n",
              "      <td>seat</td>\n",
              "      <td>yes</td>\n",
              "      <td>20160319</td>\n",
              "      <td>0</td>\n",
              "      <td>96465</td>\n",
              "      <td>20160319</td>\n",
              "    </tr>\n",
              "    <tr>\n",
              "      <th>371521</th>\n",
              "      <td>20160327</td>\n",
              "      <td>Opel_Zafira_1.6_Elegance_TÜV_12/16</td>\n",
              "      <td>private</td>\n",
              "      <td>Angebot</td>\n",
              "      <td>1150</td>\n",
              "      <td>control</td>\n",
              "      <td>bus</td>\n",
              "      <td>2000</td>\n",
              "      <td>manual</td>\n",
              "      <td>0</td>\n",
              "      <td>zafira</td>\n",
              "      <td>150000</td>\n",
              "      <td>3</td>\n",
              "      <td>petrol</td>\n",
              "      <td>opel</td>\n",
              "      <td>no</td>\n",
              "      <td>20160327</td>\n",
              "      <td>0</td>\n",
              "      <td>26624</td>\n",
              "      <td>20160329</td>\n",
              "    </tr>\n",
              "    <tr>\n",
              "      <th>371524</th>\n",
              "      <td>20160305</td>\n",
              "      <td>Smart_smart_leistungssteigerung_100ps</td>\n",
              "      <td>private</td>\n",
              "      <td>Angebot</td>\n",
              "      <td>1199</td>\n",
              "      <td>test</td>\n",
              "      <td>convertible</td>\n",
              "      <td>2000</td>\n",
              "      <td>automatic</td>\n",
              "      <td>101</td>\n",
              "      <td>fortwo</td>\n",
              "      <td>125000</td>\n",
              "      <td>3</td>\n",
              "      <td>petrol</td>\n",
              "      <td>smart</td>\n",
              "      <td>no</td>\n",
              "      <td>20160305</td>\n",
              "      <td>0</td>\n",
              "      <td>26135</td>\n",
              "      <td>20160311</td>\n",
              "    </tr>\n",
              "    <tr>\n",
              "      <th>371525</th>\n",
              "      <td>20160319</td>\n",
              "      <td>Volkswagen_Multivan_T4_TDI_7DC_UY2</td>\n",
              "      <td>private</td>\n",
              "      <td>Angebot</td>\n",
              "      <td>9200</td>\n",
              "      <td>test</td>\n",
              "      <td>bus</td>\n",
              "      <td>1996</td>\n",
              "      <td>manual</td>\n",
              "      <td>102</td>\n",
              "      <td>transporter</td>\n",
              "      <td>150000</td>\n",
              "      <td>3</td>\n",
              "      <td>diesel</td>\n",
              "      <td>volkswagen</td>\n",
              "      <td>no</td>\n",
              "      <td>20160319</td>\n",
              "      <td>0</td>\n",
              "      <td>87439</td>\n",
              "      <td>20160407</td>\n",
              "    </tr>\n",
              "    <tr>\n",
              "      <th>371527</th>\n",
              "      <td>20160307</td>\n",
              "      <td>BMW_M135i_vollausgestattet_NP_52.720____Euro</td>\n",
              "      <td>private</td>\n",
              "      <td>Angebot</td>\n",
              "      <td>28990</td>\n",
              "      <td>control</td>\n",
              "      <td>limousine</td>\n",
              "      <td>2013</td>\n",
              "      <td>manual</td>\n",
              "      <td>320</td>\n",
              "      <td>m_reihe</td>\n",
              "      <td>50000</td>\n",
              "      <td>8</td>\n",
              "      <td>petrol</td>\n",
              "      <td>bmw</td>\n",
              "      <td>no</td>\n",
              "      <td>20160307</td>\n",
              "      <td>0</td>\n",
              "      <td>73326</td>\n",
              "      <td>20160322</td>\n",
              "    </tr>\n",
              "  </tbody>\n",
              "</table>\n",
              "<p>260956 rows × 20 columns</p>\n",
              "</div>\n",
              "      <button class=\"colab-df-convert\" onclick=\"convertToInteractive('df-b2b00560-0e58-4908-99c0-3b0b613e44f1')\"\n",
              "              title=\"Convert this dataframe to an interactive table.\"\n",
              "              style=\"display:none;\">\n",
              "        \n",
              "  <svg xmlns=\"http://www.w3.org/2000/svg\" height=\"24px\"viewBox=\"0 0 24 24\"\n",
              "       width=\"24px\">\n",
              "    <path d=\"M0 0h24v24H0V0z\" fill=\"none\"/>\n",
              "    <path d=\"M18.56 5.44l.94 2.06.94-2.06 2.06-.94-2.06-.94-.94-2.06-.94 2.06-2.06.94zm-11 1L8.5 8.5l.94-2.06 2.06-.94-2.06-.94L8.5 2.5l-.94 2.06-2.06.94zm10 10l.94 2.06.94-2.06 2.06-.94-2.06-.94-.94-2.06-.94 2.06-2.06.94z\"/><path d=\"M17.41 7.96l-1.37-1.37c-.4-.4-.92-.59-1.43-.59-.52 0-1.04.2-1.43.59L10.3 9.45l-7.72 7.72c-.78.78-.78 2.05 0 2.83L4 21.41c.39.39.9.59 1.41.59.51 0 1.02-.2 1.41-.59l7.78-7.78 2.81-2.81c.8-.78.8-2.07 0-2.86zM5.41 20L4 18.59l7.72-7.72 1.47 1.35L5.41 20z\"/>\n",
              "  </svg>\n",
              "      </button>\n",
              "      \n",
              "  <style>\n",
              "    .colab-df-container {\n",
              "      display:flex;\n",
              "      flex-wrap:wrap;\n",
              "      gap: 12px;\n",
              "    }\n",
              "\n",
              "    .colab-df-convert {\n",
              "      background-color: #E8F0FE;\n",
              "      border: none;\n",
              "      border-radius: 50%;\n",
              "      cursor: pointer;\n",
              "      display: none;\n",
              "      fill: #1967D2;\n",
              "      height: 32px;\n",
              "      padding: 0 0 0 0;\n",
              "      width: 32px;\n",
              "    }\n",
              "\n",
              "    .colab-df-convert:hover {\n",
              "      background-color: #E2EBFA;\n",
              "      box-shadow: 0px 1px 2px rgba(60, 64, 67, 0.3), 0px 1px 3px 1px rgba(60, 64, 67, 0.15);\n",
              "      fill: #174EA6;\n",
              "    }\n",
              "\n",
              "    [theme=dark] .colab-df-convert {\n",
              "      background-color: #3B4455;\n",
              "      fill: #D2E3FC;\n",
              "    }\n",
              "\n",
              "    [theme=dark] .colab-df-convert:hover {\n",
              "      background-color: #434B5C;\n",
              "      box-shadow: 0px 1px 3px 1px rgba(0, 0, 0, 0.15);\n",
              "      filter: drop-shadow(0px 1px 2px rgba(0, 0, 0, 0.3));\n",
              "      fill: #FFFFFF;\n",
              "    }\n",
              "  </style>\n",
              "\n",
              "      <script>\n",
              "        const buttonEl =\n",
              "          document.querySelector('#df-b2b00560-0e58-4908-99c0-3b0b613e44f1 button.colab-df-convert');\n",
              "        buttonEl.style.display =\n",
              "          google.colab.kernel.accessAllowed ? 'block' : 'none';\n",
              "\n",
              "        async function convertToInteractive(key) {\n",
              "          const element = document.querySelector('#df-b2b00560-0e58-4908-99c0-3b0b613e44f1');\n",
              "          const dataTable =\n",
              "            await google.colab.kernel.invokeFunction('convertToInteractive',\n",
              "                                                     [key], {});\n",
              "          if (!dataTable) return;\n",
              "\n",
              "          const docLinkHtml = 'Like what you see? Visit the ' +\n",
              "            '<a target=\"_blank\" href=https://colab.research.google.com/notebooks/data_table.ipynb>data table notebook</a>'\n",
              "            + ' to learn more about interactive tables.';\n",
              "          element.innerHTML = '';\n",
              "          dataTable['output_type'] = 'display_data';\n",
              "          await google.colab.output.renderOutput(dataTable, element);\n",
              "          const docLink = document.createElement('div');\n",
              "          docLink.innerHTML = docLinkHtml;\n",
              "          element.appendChild(docLink);\n",
              "        }\n",
              "      </script>\n",
              "    </div>\n",
              "  </div>\n",
              "  "
            ]
          },
          "metadata": {}
        },
        {
          "output_type": "stream",
          "name": "stdout",
          "text": [
            "Warning: total number of rows (260956) exceeds max_rows (20000). Limiting to first (20000) rows.\n"
          ]
        }
      ]
    },
    {
      "cell_type": "code",
      "source": [
        "# Find the most common combination of brand and model\n",
        "print(autos.groupby(['brand', 'model']).size().idxmax())"
      ],
      "metadata": {
        "colab": {
          "base_uri": "https://localhost:8080/"
        },
        "id": "H9aVHGdSNhej",
        "outputId": "a8d83c2f-41f7-480e-bba8-c86d1529d7db"
      },
      "execution_count": null,
      "outputs": [
        {
          "output_type": "stream",
          "name": "stdout",
          "text": [
            "('volkswagen', 'golf')\n"
          ]
        }
      ]
    },
    {
      "cell_type": "code",
      "source": [
        "# Calculating the average prices of damaged and undamaged cars\n",
        "damaged_car_mean_prices = autos.loc[autos['unrepaired_damage'] == \"yes\"]['price'].mean()\n",
        "undamaged_car_mean_prices = autos.loc[autos['unrepaired_damage'] == \"no\"]['price'].mean()\n",
        "damaged_vs_undamaged_price = \"{:.2f}\".format(((damaged_car_mean_prices / undamaged_car_mean_prices) * 100))\n",
        "\n",
        "# Print results\n",
        "print(\"average damaged car price : \", damaged_car_mean_prices)\n",
        "print(\"average undamaged car price : \", undamaged_car_mean_prices)\n",
        "print()\n",
        "print(\"On average, car with damage is {:s}% cheaper than its counterpart.\".format(damaged_vs_undamaged_price))"
      ],
      "metadata": {
        "colab": {
          "base_uri": "https://localhost:8080/"
        },
        "id": "D4hznqTsOBBk",
        "outputId": "32105832-021e-4945-fa56-d8d1d4eabde6"
      },
      "execution_count": null,
      "outputs": [
        {
          "output_type": "stream",
          "name": "stdout",
          "text": [
            "average damaged car price :  5946.299000357016\n",
            "average undamaged car price :  8480.655911670516\n",
            "\n",
            "On average, car with damage is 70.12% cheaper than its counterpart.\n"
          ]
        }
      ]
    }
  ]
}